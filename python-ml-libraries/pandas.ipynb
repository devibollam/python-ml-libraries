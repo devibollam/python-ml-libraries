{
 "cells": [
  {
   "cell_type": "code",
   "execution_count": 1,
   "metadata": {},
   "outputs": [],
   "source": [
    "import pandas as pd\n",
    "import numpy as np"
   ]
  },
  {
   "cell_type": "code",
   "execution_count": 2,
   "metadata": {},
   "outputs": [
    {
     "name": "stdout",
     "output_type": "stream",
     "text": [
      "DataFrame from Dictionary:\n",
      "   ID     Name  Age\n",
      "0   1    Alice   25\n",
      "1   2      Bob   30\n",
      "2   3  Charlie   35\n"
     ]
    }
   ],
   "source": [
    "# 1. Create a DataFrame from a dictionary and a list of lists\n",
    "data_dict = {\n",
    "    'ID': [1, 2, 3],\n",
    "    'Name': ['Alice', 'Bob', 'Charlie'],\n",
    "    'Age': [25, 30, 35]\n",
    "}\n",
    "df1 = pd.DataFrame(data_dict)\n",
    "print(\"DataFrame from Dictionary:\")\n",
    "print(df1)"
   ]
  },
  {
   "cell_type": "code",
   "execution_count": 3,
   "metadata": {},
   "outputs": [],
   "source": [
    "# 2. Load a CSV file into a DataFrame and display the first 5 rows\n",
    "# df2 = pd.read_csv('file.csv')\n",
    "# print(df2.head())"
   ]
  },
  {
   "cell_type": "code",
   "execution_count": 4,
   "metadata": {},
   "outputs": [
    {
     "name": "stdout",
     "output_type": "stream",
     "text": [
      "Select specific columns using .loc:\n",
      "      Name  Age\n",
      "0    Alice   25\n",
      "1      Bob   30\n",
      "2  Charlie   35\n",
      "Select specific rows using .iloc:\n",
      "   ID     Name  Age\n",
      "1   2      Bob   30\n",
      "2   3  Charlie   35\n"
     ]
    }
   ],
   "source": [
    "# 3. Select specific columns and rows using .loc and .iloc\n",
    "print(\"Select specific columns using .loc:\")\n",
    "print(df1.loc[:, ['Name', 'Age']])\n",
    "print(\"Select specific rows using .iloc:\")\n",
    "print(df1.iloc[1:3])"
   ]
  },
  {
   "cell_type": "code",
   "execution_count": 5,
   "metadata": {},
   "outputs": [
    {
     "name": "stdout",
     "output_type": "stream",
     "text": [
      "DataFrame with NaN values:\n",
      "    ID     Name   Age\n",
      "0  1.0    Alice  25.0\n",
      "1  2.0      Bob  30.0\n",
      "2  3.0  Charlie  35.0\n",
      "3  4.0      NaN   NaN\n",
      "After filling missing values:\n",
      "    ID     Name   Age\n",
      "0  1.0    Alice  25.0\n",
      "1  2.0      Bob  30.0\n",
      "2  3.0  Charlie  35.0\n",
      "3  4.0  Unknown  30.0\n"
     ]
    }
   ],
   "source": [
    "# 4. Handle missing values by filling and dropping them\n",
    "df1.loc[3] = [4, None, np.nan]\n",
    "print(\"DataFrame with NaN values:\")\n",
    "print(df1)\n",
    "df1.fillna({'Name': 'Unknown', 'Age': df1['Age'].mean()}, inplace=True)\n",
    "print(\"After filling missing values:\")\n",
    "print(df1)"
   ]
  },
  {
   "cell_type": "code",
   "execution_count": 6,
   "metadata": {},
   "outputs": [
    {
     "name": "stdout",
     "output_type": "stream",
     "text": [
      "Age column after applying lambda function:\n",
      "    ID     Name   Age  Age_plus_5\n",
      "0  1.0    Alice  25.0        30.0\n",
      "1  2.0      Bob  30.0        35.0\n",
      "2  3.0  Charlie  35.0        40.0\n",
      "3  4.0  Unknown  30.0        35.0\n"
     ]
    }
   ],
   "source": [
    "# 5. Apply lambda functions on DataFrame columns\n",
    "df1['Age_plus_5'] = df1['Age'].apply(lambda x: x + 5)\n",
    "print(\"Age column after applying lambda function:\")\n",
    "print(df1)"
   ]
  },
  {
   "cell_type": "code",
   "execution_count": 7,
   "metadata": {},
   "outputs": [
    {
     "name": "stdout",
     "output_type": "stream",
     "text": [
      "Merged DataFrame:\n",
      "    ID     Name   Age  Age_plus_5 Department\n",
      "0  1.0    Alice  25.0        30.0         HR\n",
      "1  2.0      Bob  30.0        35.0         IT\n",
      "2  3.0  Charlie  35.0        40.0        NaN\n",
      "3  4.0  Unknown  30.0        35.0    Finance\n"
     ]
    }
   ],
   "source": [
    "# 6. Merge two DataFrames based on a common column\n",
    "df2 = pd.DataFrame({'ID': [1, 2, 4], 'Department': ['HR', 'IT', 'Finance']})\n",
    "merged_df = df1.merge(df2, on='ID', how='left')\n",
    "print(\"Merged DataFrame:\")\n",
    "print(merged_df)\n"
   ]
  },
  {
   "cell_type": "code",
   "execution_count": 8,
   "metadata": {},
   "outputs": [
    {
     "name": "stdout",
     "output_type": "stream",
     "text": [
      "Grouped by Department:\n",
      "Department\n",
      "Finance    30.0\n",
      "HR         25.0\n",
      "IT         30.0\n",
      "Name: Age, dtype: float64\n"
     ]
    }
   ],
   "source": [
    "# 7. Group data and apply aggregate functions\n",
    "print(\"Grouped by Department:\")\n",
    "print(merged_df.groupby('Department')['Age'].mean())"
   ]
  },
  {
   "cell_type": "code",
   "execution_count": 9,
   "metadata": {},
   "outputs": [
    {
     "name": "stdout",
     "output_type": "stream",
     "text": [
      "Pivot Table:\n",
      "             Age\n",
      "Department      \n",
      "Finance     30.0\n",
      "HR          25.0\n",
      "IT          30.0\n"
     ]
    },
    {
     "name": "stderr",
     "output_type": "stream",
     "text": [
      "C:\\Users\\LBOLLAM\\AppData\\Local\\Temp\\ipykernel_18884\\115362832.py:2: FutureWarning: The provided callable <function mean at 0x0000022C2C72B420> is currently using DataFrameGroupBy.mean. In a future version of pandas, the provided callable will be used directly. To keep current behavior pass the string \"mean\" instead.\n",
      "  pivot_df = merged_df.pivot_table(values='Age', index='Department', aggfunc=np.mean)\n"
     ]
    }
   ],
   "source": [
    "# 8. Pivot tables and reshaping data\n",
    "pivot_df = merged_df.pivot_table(values='Age', index='Department', aggfunc=np.mean)\n",
    "print(\"Pivot Table:\")\n",
    "print(pivot_df)\n"
   ]
  },
  {
   "cell_type": "code",
   "execution_count": 10,
   "metadata": {},
   "outputs": [
    {
     "name": "stdout",
     "output_type": "stream",
     "text": [
      "Sorted DataFrame:\n",
      "    ID     Name   Age  Age_plus_5\n",
      "2  3.0  Charlie  35.0        40.0\n",
      "1  2.0      Bob  30.0        35.0\n",
      "3  4.0  Unknown  30.0        35.0\n",
      "0  1.0    Alice  25.0        30.0\n"
     ]
    }
   ],
   "source": [
    "# 9. Sort values based on multiple columns\n",
    "sorted_df = df1.sort_values(by=['Age'], ascending=False)\n",
    "print(\"Sorted DataFrame:\")\n",
    "print(sorted_df)"
   ]
  },
  {
   "cell_type": "code",
   "execution_count": 11,
   "metadata": {},
   "outputs": [
    {
     "name": "stdout",
     "output_type": "stream",
     "text": [
      "Filtered DataFrame (Age > 30):\n",
      "    ID     Name   Age  Age_plus_5\n",
      "2  3.0  Charlie  35.0        40.0\n"
     ]
    }
   ],
   "source": [
    "# 10. Filter rows based on conditions\n",
    "filtered_df = df1[df1['Age'] > 30]\n",
    "print(\"Filtered DataFrame (Age > 30):\")\n",
    "print(filtered_df)\n"
   ]
  },
  {
   "cell_type": "code",
   "execution_count": 12,
   "metadata": {},
   "outputs": [
    {
     "name": "stdout",
     "output_type": "stream",
     "text": [
      "DataFrame with Rolling Average:\n",
      "    ID     Name   Age  Age_plus_5  Rolling_Avg\n",
      "0  1.0    Alice  25.0        30.0          NaN\n",
      "1  2.0      Bob  30.0        35.0         27.5\n",
      "2  3.0  Charlie  35.0        40.0         32.5\n",
      "3  4.0  Unknown  30.0        35.0         32.5\n"
     ]
    }
   ],
   "source": [
    "# 11. Apply rolling window functions\n",
    "df1['Rolling_Avg'] = df1['Age'].rolling(window=2).mean()\n",
    "print(\"DataFrame with Rolling Average:\")\n",
    "print(df1)"
   ]
  },
  {
   "cell_type": "code",
   "execution_count": 13,
   "metadata": {},
   "outputs": [
    {
     "name": "stdout",
     "output_type": "stream",
     "text": [
      "ID column after type conversion:\n",
      "ID              object\n",
      "Name            object\n",
      "Age            float64\n",
      "Age_plus_5     float64\n",
      "Rolling_Avg    float64\n",
      "dtype: object\n"
     ]
    }
   ],
   "source": [
    "# 12. Convert a column’s data type\n",
    "df1['ID'] = df1['ID'].astype(str)\n",
    "print(\"ID column after type conversion:\")\n",
    "print(df1.dtypes)"
   ]
  },
  {
   "cell_type": "code",
   "execution_count": 14,
   "metadata": {},
   "outputs": [
    {
     "name": "stdout",
     "output_type": "stream",
     "text": [
      "DataFrame with Date column:\n",
      "    ID     Name   Age  Age_plus_5  Rolling_Avg       Date\n",
      "0  1.0    Alice  25.0        30.0          NaN 2023-01-01\n",
      "1  2.0      Bob  30.0        35.0         27.5 2023-01-02\n",
      "2  3.0  Charlie  35.0        40.0         32.5 2023-01-03\n",
      "3  4.0  Unknown  30.0        35.0         32.5 2023-01-04\n"
     ]
    }
   ],
   "source": [
    "# 13. Work with time-series data\n",
    "dates = pd.date_range(start='2023-01-01', periods=len(df1), freq='D')\n",
    "df1['Date'] = dates\n",
    "print(\"DataFrame with Date column:\")\n",
    "print(df1)"
   ]
  },
  {
   "cell_type": "code",
   "execution_count": 15,
   "metadata": {},
   "outputs": [
    {
     "name": "stdout",
     "output_type": "stream",
     "text": [
      "Optimized DataFrame:\n",
      "ID                     object\n",
      "Name                 category\n",
      "Age                   float64\n",
      "Age_plus_5            float64\n",
      "Rolling_Avg           float64\n",
      "Date           datetime64[ns]\n",
      "dtype: object\n"
     ]
    }
   ],
   "source": [
    "# 14. Optimize performance with categorical data\n",
    "df1['Name'] = df1['Name'].astype('category')\n",
    "print(\"Optimized DataFrame:\")\n",
    "print(df1.dtypes)"
   ]
  },
  {
   "cell_type": "code",
   "execution_count": 16,
   "metadata": {},
   "outputs": [],
   "source": [
    "# 15. Export DataFrame to CSV and Excel\n",
    "# df1.to_csv('output.csv', index=False)\n",
    "# df1.to_excel('output.xlsx', index=False)"
   ]
  },
  {
   "cell_type": "code",
   "execution_count": null,
   "metadata": {},
   "outputs": [],
   "source": []
  }
 ],
 "metadata": {
  "kernelspec": {
   "display_name": "Python 3",
   "language": "python",
   "name": "python3"
  },
  "language_info": {
   "codemirror_mode": {
    "name": "ipython",
    "version": 3
   },
   "file_extension": ".py",
   "mimetype": "text/x-python",
   "name": "python",
   "nbconvert_exporter": "python",
   "pygments_lexer": "ipython3",
   "version": "3.12.2"
  }
 },
 "nbformat": 4,
 "nbformat_minor": 2
}
