{
 "cells": [
  {
   "cell_type": "code",
   "execution_count": 2,
   "metadata": {},
   "outputs": [],
   "source": [
    "from sklearn.metrics import accuracy_score, precision_score, recall_score, f1_score, classification_report\n",
    "import numpy as np"
   ]
  },
  {
   "cell_type": "code",
   "execution_count": 3,
   "metadata": {},
   "outputs": [],
   "source": [
    "y_true = np.array([1, 0, 1, 1, 0, 1, 0, 0, 1, 0])# Actual Labels\n",
    "y_pred = np.array([1, 0, 1, 0, 0, 1, 1, 0, 1, 0])#Predicted labels\n"
   ]
  },
  {
   "cell_type": "code",
   "execution_count": 4,
   "metadata": {},
   "outputs": [
    {
     "name": "stdout",
     "output_type": "stream",
     "text": [
      "Accuracy: 0.8\n"
     ]
    }
   ],
   "source": [
    "# 1. Compute Accuracy \n",
    "accuracy = accuracy_score(y_true, y_pred)\n",
    "print(\"Accuracy:\", accuracy)"
   ]
  },
  {
   "cell_type": "code",
   "execution_count": 5,
   "metadata": {},
   "outputs": [
    {
     "name": "stdout",
     "output_type": "stream",
     "text": [
      "Precision(Macro): 0.8\n",
      "Precision(Micro): 0.8\n",
      "Precision(weighted): 0.8\n"
     ]
    }
   ],
   "source": [
    "# 2. Computer Precision\n",
    "precision_macro = precision_score(y_true, y_pred, average='macro')\n",
    "precision_micro = precision_score(y_true, y_pred, average='micro')\n",
    "precision_weighted = precision_score(y_true, y_pred, average='weighted')\n",
    "print(\"Precision(Macro):\", precision_macro)\n",
    "print(\"Precision(Micro):\", precision_micro)\n",
    "print(\"Precision(weighted):\", precision_weighted)"
   ]
  },
  {
   "cell_type": "code",
   "execution_count": 6,
   "metadata": {},
   "outputs": [
    {
     "name": "stdout",
     "output_type": "stream",
     "text": [
      "Recall (Macro): 0.8\n",
      "Recall (Micro): 0.8\n",
      "Recall (Weighted): 0.8\n"
     ]
    }
   ],
   "source": [
    "# 3. Compute Recall\n",
    "recall_macro = recall_score(y_true, y_pred, average='macro')\n",
    "recall_micro = recall_score(y_true, y_pred, average='micro')\n",
    "recall_weighted = recall_score(y_true, y_pred, average='weighted')\n",
    "print(\"Recall (Macro):\", recall_macro)\n",
    "print(\"Recall (Micro):\", recall_micro)\n",
    "print(\"Recall (Weighted):\", recall_weighted)"
   ]
  },
  {
   "cell_type": "code",
   "execution_count": 7,
   "metadata": {},
   "outputs": [
    {
     "name": "stdout",
     "output_type": "stream",
     "text": [
      "F1-Score (Macro): 0.8\n",
      "F1-Score (Micro): 0.8\n",
      "F1-Score (Weighted): 0.8\n"
     ]
    }
   ],
   "source": [
    "# 4. Compute F1-Score\n",
    "f1_macro = f1_score(y_true, y_pred, average='macro')\n",
    "f1_micro = f1_score(y_true, y_pred, average='micro')\n",
    "f1_weighted = f1_score(y_true, y_pred, average='weighted')\n",
    "print(\"F1-Score (Macro):\", f1_macro)\n",
    "print(\"F1-Score (Micro):\", f1_micro)\n",
    "print(\"F1-Score (Weighted):\", f1_weighted)"
   ]
  },
  {
   "cell_type": "code",
   "execution_count": 8,
   "metadata": {},
   "outputs": [
    {
     "name": "stdout",
     "output_type": "stream",
     "text": [
      "\n",
      "Classification Report:\n",
      "              precision    recall  f1-score   support\n",
      "\n",
      "           0       0.80      0.80      0.80         5\n",
      "           1       0.80      0.80      0.80         5\n",
      "\n",
      "    accuracy                           0.80        10\n",
      "   macro avg       0.80      0.80      0.80        10\n",
      "weighted avg       0.80      0.80      0.80        10\n",
      "\n"
     ]
    }
   ],
   "source": [
    "# 5. Generate a classification report\n",
    "print(\"\\nClassification Report:\")\n",
    "print(classification_report(y_true, y_pred))"
   ]
  },
  {
   "cell_type": "code",
   "execution_count": null,
   "metadata": {},
   "outputs": [],
   "source": []
  }
 ],
 "metadata": {
  "kernelspec": {
   "display_name": "Python 3",
   "language": "python",
   "name": "python3"
  },
  "language_info": {
   "codemirror_mode": {
    "name": "ipython",
    "version": 3
   },
   "file_extension": ".py",
   "mimetype": "text/x-python",
   "name": "python",
   "nbconvert_exporter": "python",
   "pygments_lexer": "ipython3",
   "version": "3.12.2"
  }
 },
 "nbformat": 4,
 "nbformat_minor": 2
}
